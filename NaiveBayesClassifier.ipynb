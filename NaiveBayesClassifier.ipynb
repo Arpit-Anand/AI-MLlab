{
 "cells": [
  {
   "cell_type": "code",
   "execution_count": 1,
   "metadata": {},
   "outputs": [],
   "source": [
    "import pandas as pd\n",
    "data = pd.read_csv('data.csv')\n",
    "te = len(data)\n",
    "np = len(data.loc[data[data.columns[-1]]=='Yes'])\n",
    "nn = te-np"
   ]
  },
  {
   "cell_type": "code",
   "execution_count": 3,
   "metadata": {},
   "outputs": [
    {
     "name": "stdout",
     "output_type": "stream",
     "text": [
      "Training Set:\n",
      "      Outlook Temperature Humidity   Windy PlayTennis\n",
      "7      Sunny        Mild     High    Weak         No\n",
      "13     Rainy        Mild     High  Strong         No\n",
      "3      Rainy        Mild     High    Weak        Yes\n",
      "1      Sunny         Hot     High  Strong         No\n",
      "0      Sunny         Hot     High    Weak         No\n",
      "10     Sunny        Mild   Normal  Strong        Yes\n",
      "8      Sunny        Cool   Normal    Weak        Yes\n",
      "2   Overcast         Hot     High    Weak        Yes\n",
      "12  Overcast         Hot   Normal    Weak        Yes\n",
      "11  Overcast        Mild     High  Strong        Yes\n",
      "\n",
      "Test Data:\n",
      "     Outlook Temperature Humidity   Windy PlayTennis\n",
      "4     Rainy        Cool   Normal    Weak        Yes\n",
      "5     Rainy        Cool   Normal  Strong         No\n",
      "6  Overcast        Cool   Normal  Strong        Yes\n",
      "9     Rainy        Mild   Normal    Weak        Yes\n"
     ]
    }
   ],
   "source": [
    "training = data.sample(frac=0.75, replace = False)\n",
    "test = pd.concat([data,training,training]).drop_duplicates(keep=False)\n",
    "print('Training Set:\\n', training)\n",
    "print('\\nTest Data:\\n', test)"
   ]
  },
  {
   "cell_type": "code",
   "execution_count": 4,
   "metadata": {},
   "outputs": [],
   "source": [
    "prob ={}\n",
    "for col in training.columns[:-1]:\n",
    "    prob[col] = {}\n",
    "    vals = set(data[col])\n",
    "    for val in vals:\n",
    "        temp = training.loc[training[col] == val]\n",
    "        pe = len(temp.loc[temp[temp.columns[-1]]=='Yes'])\n",
    "        ne = len(temp) - pe\n",
    "        prob[col][val] = [pe/np,ne/nn]"
   ]
  },
  {
   "cell_type": "code",
   "execution_count": 10,
   "metadata": {},
   "outputs": [],
   "source": [
    "prediction = []\n",
    "right_prediction = 0\n",
    "for i in range(len(test)):\n",
    "    row = test.iloc[i,:]\n",
    "    fpp = np/te\n",
    "    fpn = nn/te\n",
    "    for col in test.columns[:-1]:\n",
    "        fpp *= prob[col][row[col]][0]\n",
    "        fpn *= prob[col][row[col]][1]\n",
    "    if fpp > fpn:\n",
    "        prediction.append('Yes')\n",
    "    else :\n",
    "        predicton.append('No')\n",
    "    if prediction[-1] == row[-1]:\n",
    "        right_prediction += 1"
   ]
  },
  {
   "cell_type": "code",
   "execution_count": 12,
   "metadata": {},
   "outputs": [
    {
     "name": "stdout",
     "output_type": "stream",
     "text": [
      "\n",
      "Actual Values:  ['Yes', 'No', 'Yes', 'Yes']\n",
      "\n",
      "Predicted:  ['Yes', 'Yes', 'Yes', 'Yes']\n",
      "Accuracy :  0.75\n"
     ]
    }
   ],
   "source": [
    "print('\\nActual Values: ', list(test[test.columns[-1]]))\n",
    "print('\\nPredicted: ', prediction)\n",
    "print('Accuracy : ', right_prediction/len(test))"
   ]
  },
  {
   "cell_type": "code",
   "execution_count": null,
   "metadata": {},
   "outputs": [],
   "source": []
  }
 ],
 "metadata": {
  "kernelspec": {
   "display_name": "Python 3",
   "language": "python",
   "name": "python3"
  },
  "language_info": {
   "codemirror_mode": {
    "name": "ipython",
    "version": 3
   },
   "file_extension": ".py",
   "mimetype": "text/x-python",
   "name": "python",
   "nbconvert_exporter": "python",
   "pygments_lexer": "ipython3",
   "version": "3.8.10"
  }
 },
 "nbformat": 4,
 "nbformat_minor": 4
}
